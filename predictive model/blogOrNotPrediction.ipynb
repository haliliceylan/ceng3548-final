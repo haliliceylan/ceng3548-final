{
  "nbformat": 4,
  "nbformat_minor": 0,
  "metadata": {
    "kernelspec": {
      "language": "python",
      "display_name": "Python 3",
      "name": "python3"
    },
    "language_info": {
      "pygments_lexer": "ipython3",
      "nbconvert_exporter": "python",
      "version": "3.6.4",
      "file_extension": ".py",
      "codemirror_mode": {
        "name": "ipython",
        "version": 3
      },
      "name": "python",
      "mimetype": "text/x-python"
    },
    "colab": {
      "name": "blogOrNotPrediction.ipynb",
      "provenance": [],
      "toc_visible": true
    }
  },
  "cells": [
    {
      "cell_type": "markdown",
      "metadata": {
        "id": "eM3rro1BB7Fx"
      },
      "source": [
        "# Import Libraries / Load Data"
      ]
    },
    {
      "cell_type": "code",
      "metadata": {
        "_uuid": "8f2839f25d086af736a60e9eeb907d3b93b6e0e5",
        "_cell_guid": "b1076dfc-b9ad-4769-8c92-a6c4dae69d19",
        "execution": {
          "iopub.status.busy": "2021-05-28T06:29:02.101179Z",
          "iopub.execute_input": "2021-05-28T06:29:02.101467Z",
          "iopub.status.idle": "2021-05-28T06:29:03.47706Z",
          "shell.execute_reply.started": "2021-05-28T06:29:02.101435Z",
          "shell.execute_reply": "2021-05-28T06:29:03.475954Z"
        },
        "trusted": true,
        "id": "LLA3MK35B7Fz"
      },
      "source": [
        "import numpy as np \n",
        "import pandas as pd \n",
        "from sklearn.model_selection import GridSearchCV\n",
        "from sklearn.metrics import classification_report, plot_roc_curve\n",
        "from sklearn.neighbors import KNeighborsClassifier\n",
        "from sklearn.ensemble import RandomForestClassifier\n",
        "from xgboost import plot_importance\n",
        "import xgboost as xg\n",
        "import matplotlib.pyplot as plt\n",
        "import seaborn as sns\n",
        "import warnings\n",
        "warnings.filterwarnings(\"ignore\")\n",
        "sns.set_theme(style =  \"whitegrid\")"
      ],
      "execution_count": 1,
      "outputs": []
    },
    {
      "cell_type": "code",
      "metadata": {
        "execution": {
          "iopub.status.busy": "2021-05-28T06:29:46.353067Z",
          "iopub.execute_input": "2021-05-28T06:29:46.353541Z",
          "iopub.status.idle": "2021-05-28T06:29:47.140709Z",
          "shell.execute_reply.started": "2021-05-28T06:29:46.353503Z",
          "shell.execute_reply": "2021-05-28T06:29:47.139827Z"
        },
        "trusted": true,
        "id": "Q6tnHaKYB7F0"
      },
      "source": [
        "PATH = \"items.csv\"\n",
        "data = pd.read_csv(PATH)"
      ],
      "execution_count": 2,
      "outputs": []
    },
    {
      "cell_type": "markdown",
      "metadata": {
        "id": "StdDm4EnB7F0"
      },
      "source": [
        "# Data Analysis"
      ]
    },
    {
      "cell_type": "code",
      "metadata": {
        "execution": {
          "iopub.status.busy": "2021-05-28T06:29:47.537192Z",
          "iopub.execute_input": "2021-05-28T06:29:47.53752Z",
          "iopub.status.idle": "2021-05-28T06:29:47.545242Z",
          "shell.execute_reply.started": "2021-05-28T06:29:47.537493Z",
          "shell.execute_reply": "2021-05-28T06:29:47.544181Z"
        },
        "trusted": true,
        "colab": {
          "base_uri": "https://localhost:8080/"
        },
        "id": "lNY7mj2HB7F0",
        "outputId": "875bf47e-0757-4f87-c23f-5fabc8f5a02c"
      },
      "source": [
        "data.shape"
      ],
      "execution_count": 3,
      "outputs": [
        {
          "output_type": "execute_result",
          "data": {
            "text/plain": [
              "(86350, 97)"
            ]
          },
          "metadata": {
            "tags": []
          },
          "execution_count": 3
        }
      ]
    },
    {
      "cell_type": "code",
      "metadata": {
        "execution": {
          "iopub.status.busy": "2021-05-28T06:29:48.661143Z",
          "iopub.execute_input": "2021-05-28T06:29:48.661762Z",
          "iopub.status.idle": "2021-05-28T06:29:48.697264Z",
          "shell.execute_reply.started": "2021-05-28T06:29:48.661727Z",
          "shell.execute_reply": "2021-05-28T06:29:48.696332Z"
        },
        "trusted": true,
        "colab": {
          "base_uri": "https://localhost:8080/",
          "height": 252
        },
        "id": "aDaZRF26B7F1",
        "outputId": "bf8aaa6d-f8a2-424c-d9f3-2a6923a81692"
      },
      "source": [
        "data.head()"
      ],
      "execution_count": 4,
      "outputs": [
        {
          "output_type": "execute_result",
          "data": {
            "text/html": [
              "<div>\n",
              "<style scoped>\n",
              "    .dataframe tbody tr th:only-of-type {\n",
              "        vertical-align: middle;\n",
              "    }\n",
              "\n",
              "    .dataframe tbody tr th {\n",
              "        vertical-align: top;\n",
              "    }\n",
              "\n",
              "    .dataframe thead th {\n",
              "        text-align: right;\n",
              "    }\n",
              "</style>\n",
              "<table border=\"1\" class=\"dataframe\">\n",
              "  <thead>\n",
              "    <tr style=\"text-align: right;\">\n",
              "      <th></th>\n",
              "      <th>url</th>\n",
              "      <th>is_blog</th>\n",
              "      <th>qty_dot_url</th>\n",
              "      <th>qty_hyphen_url</th>\n",
              "      <th>qty_underline_url</th>\n",
              "      <th>qty_slash_url</th>\n",
              "      <th>qty_questionmark_url</th>\n",
              "      <th>qty_equal_url</th>\n",
              "      <th>qty_at_url</th>\n",
              "      <th>qty_and_url</th>\n",
              "      <th>qty_exclamation_url</th>\n",
              "      <th>qty_space_url</th>\n",
              "      <th>qty_tilde_url</th>\n",
              "      <th>qty_comma_url</th>\n",
              "      <th>qty_plus_url</th>\n",
              "      <th>qty_asterisk_url</th>\n",
              "      <th>qty_hashtag_url</th>\n",
              "      <th>qty_dollar_url</th>\n",
              "      <th>qty_percent_url</th>\n",
              "      <th>length_url</th>\n",
              "      <th>email_in_url</th>\n",
              "      <th>qty_dot_domain</th>\n",
              "      <th>qty_hyphen_domain</th>\n",
              "      <th>qty_underline_domain</th>\n",
              "      <th>qty_slash_domain</th>\n",
              "      <th>qty_questionmark_domain</th>\n",
              "      <th>qty_equal_domain</th>\n",
              "      <th>qty_at_domain</th>\n",
              "      <th>qty_and_domain</th>\n",
              "      <th>qty_exclamation_domain</th>\n",
              "      <th>qty_space_domain</th>\n",
              "      <th>qty_tilde_domain</th>\n",
              "      <th>qty_comma_domain</th>\n",
              "      <th>qty_plus_domain</th>\n",
              "      <th>qty_asterisk_domain</th>\n",
              "      <th>qty_hashtag_domain</th>\n",
              "      <th>qty_dollar_domain</th>\n",
              "      <th>qty_percent_domain</th>\n",
              "      <th>length_domain</th>\n",
              "      <th>in_ip_domain</th>\n",
              "      <th>...</th>\n",
              "      <th>qty_percent_path</th>\n",
              "      <th>length_path</th>\n",
              "      <th>qty_dot_query</th>\n",
              "      <th>qty_hyphen_query</th>\n",
              "      <th>qty_underline_query</th>\n",
              "      <th>qty_slash_query</th>\n",
              "      <th>qty_questionmark_query</th>\n",
              "      <th>qty_equal_query</th>\n",
              "      <th>qty_at_query</th>\n",
              "      <th>qty_and_query</th>\n",
              "      <th>qty_exclamation_query</th>\n",
              "      <th>qty_space_query</th>\n",
              "      <th>qty_tilde_query</th>\n",
              "      <th>qty_comma_query</th>\n",
              "      <th>qty_plus_query</th>\n",
              "      <th>qty_asterisk_query</th>\n",
              "      <th>qty_hashtag_query</th>\n",
              "      <th>qty_dollar_query</th>\n",
              "      <th>qty_percent_query</th>\n",
              "      <th>length_query</th>\n",
              "      <th>qty_elements_query</th>\n",
              "      <th>tdl_present_query</th>\n",
              "      <th>qty_dot_fragment</th>\n",
              "      <th>qty_hyphen_fragment</th>\n",
              "      <th>qty_underline_fragment</th>\n",
              "      <th>qty_slash_fragment</th>\n",
              "      <th>qty_questionmark_fragment</th>\n",
              "      <th>qty_equal_fragment</th>\n",
              "      <th>qty_at_fragment</th>\n",
              "      <th>qty_and_fragment</th>\n",
              "      <th>qty_exclamation_fragment</th>\n",
              "      <th>qty_space_fragment</th>\n",
              "      <th>qty_tilde_fragment</th>\n",
              "      <th>qty_comma_fragment</th>\n",
              "      <th>qty_plus_fragment</th>\n",
              "      <th>qty_asterisk_fragment</th>\n",
              "      <th>qty_hashtag_fragment</th>\n",
              "      <th>qty_dollar_fragment</th>\n",
              "      <th>qty_percent_fragment</th>\n",
              "      <th>length_fragment</th>\n",
              "    </tr>\n",
              "  </thead>\n",
              "  <tbody>\n",
              "    <tr>\n",
              "      <th>0</th>\n",
              "      <td>https://windowstoworlds.wordpress.com/index/</td>\n",
              "      <td>1</td>\n",
              "      <td>2</td>\n",
              "      <td>0</td>\n",
              "      <td>0</td>\n",
              "      <td>4</td>\n",
              "      <td>0</td>\n",
              "      <td>0</td>\n",
              "      <td>0</td>\n",
              "      <td>0</td>\n",
              "      <td>0</td>\n",
              "      <td>0</td>\n",
              "      <td>0</td>\n",
              "      <td>0</td>\n",
              "      <td>0</td>\n",
              "      <td>0</td>\n",
              "      <td>0</td>\n",
              "      <td>0</td>\n",
              "      <td>0</td>\n",
              "      <td>44</td>\n",
              "      <td>0</td>\n",
              "      <td>2</td>\n",
              "      <td>0</td>\n",
              "      <td>0</td>\n",
              "      <td>0</td>\n",
              "      <td>0</td>\n",
              "      <td>0</td>\n",
              "      <td>0</td>\n",
              "      <td>0</td>\n",
              "      <td>0</td>\n",
              "      <td>0</td>\n",
              "      <td>0</td>\n",
              "      <td>0</td>\n",
              "      <td>0</td>\n",
              "      <td>0</td>\n",
              "      <td>0</td>\n",
              "      <td>0</td>\n",
              "      <td>0</td>\n",
              "      <td>29</td>\n",
              "      <td>0</td>\n",
              "      <td>...</td>\n",
              "      <td>0</td>\n",
              "      <td>7</td>\n",
              "      <td>0</td>\n",
              "      <td>0</td>\n",
              "      <td>0</td>\n",
              "      <td>0</td>\n",
              "      <td>0</td>\n",
              "      <td>0</td>\n",
              "      <td>0</td>\n",
              "      <td>0</td>\n",
              "      <td>0</td>\n",
              "      <td>0</td>\n",
              "      <td>0</td>\n",
              "      <td>0</td>\n",
              "      <td>0</td>\n",
              "      <td>0</td>\n",
              "      <td>0</td>\n",
              "      <td>0</td>\n",
              "      <td>0</td>\n",
              "      <td>0</td>\n",
              "      <td>0</td>\n",
              "      <td>0</td>\n",
              "      <td>0</td>\n",
              "      <td>0</td>\n",
              "      <td>0</td>\n",
              "      <td>0</td>\n",
              "      <td>0</td>\n",
              "      <td>0</td>\n",
              "      <td>0</td>\n",
              "      <td>0</td>\n",
              "      <td>0</td>\n",
              "      <td>0</td>\n",
              "      <td>0</td>\n",
              "      <td>0</td>\n",
              "      <td>0</td>\n",
              "      <td>0</td>\n",
              "      <td>0</td>\n",
              "      <td>0</td>\n",
              "      <td>0</td>\n",
              "      <td>0</td>\n",
              "    </tr>\n",
              "    <tr>\n",
              "      <th>1</th>\n",
              "      <td>https://windowstoworlds.wordpress.com/features...</td>\n",
              "      <td>1</td>\n",
              "      <td>2</td>\n",
              "      <td>2</td>\n",
              "      <td>0</td>\n",
              "      <td>4</td>\n",
              "      <td>0</td>\n",
              "      <td>0</td>\n",
              "      <td>0</td>\n",
              "      <td>0</td>\n",
              "      <td>0</td>\n",
              "      <td>0</td>\n",
              "      <td>0</td>\n",
              "      <td>0</td>\n",
              "      <td>0</td>\n",
              "      <td>0</td>\n",
              "      <td>0</td>\n",
              "      <td>0</td>\n",
              "      <td>0</td>\n",
              "      <td>60</td>\n",
              "      <td>0</td>\n",
              "      <td>2</td>\n",
              "      <td>0</td>\n",
              "      <td>0</td>\n",
              "      <td>0</td>\n",
              "      <td>0</td>\n",
              "      <td>0</td>\n",
              "      <td>0</td>\n",
              "      <td>0</td>\n",
              "      <td>0</td>\n",
              "      <td>0</td>\n",
              "      <td>0</td>\n",
              "      <td>0</td>\n",
              "      <td>0</td>\n",
              "      <td>0</td>\n",
              "      <td>0</td>\n",
              "      <td>0</td>\n",
              "      <td>0</td>\n",
              "      <td>29</td>\n",
              "      <td>0</td>\n",
              "      <td>...</td>\n",
              "      <td>0</td>\n",
              "      <td>23</td>\n",
              "      <td>0</td>\n",
              "      <td>0</td>\n",
              "      <td>0</td>\n",
              "      <td>0</td>\n",
              "      <td>0</td>\n",
              "      <td>0</td>\n",
              "      <td>0</td>\n",
              "      <td>0</td>\n",
              "      <td>0</td>\n",
              "      <td>0</td>\n",
              "      <td>0</td>\n",
              "      <td>0</td>\n",
              "      <td>0</td>\n",
              "      <td>0</td>\n",
              "      <td>0</td>\n",
              "      <td>0</td>\n",
              "      <td>0</td>\n",
              "      <td>0</td>\n",
              "      <td>0</td>\n",
              "      <td>0</td>\n",
              "      <td>0</td>\n",
              "      <td>0</td>\n",
              "      <td>0</td>\n",
              "      <td>0</td>\n",
              "      <td>0</td>\n",
              "      <td>0</td>\n",
              "      <td>0</td>\n",
              "      <td>0</td>\n",
              "      <td>0</td>\n",
              "      <td>0</td>\n",
              "      <td>0</td>\n",
              "      <td>0</td>\n",
              "      <td>0</td>\n",
              "      <td>0</td>\n",
              "      <td>0</td>\n",
              "      <td>0</td>\n",
              "      <td>0</td>\n",
              "      <td>0</td>\n",
              "    </tr>\n",
              "    <tr>\n",
              "      <th>2</th>\n",
              "      <td>https://windowstoworlds.wordpress.com/2021/05/...</td>\n",
              "      <td>1</td>\n",
              "      <td>2</td>\n",
              "      <td>6</td>\n",
              "      <td>0</td>\n",
              "      <td>7</td>\n",
              "      <td>0</td>\n",
              "      <td>0</td>\n",
              "      <td>0</td>\n",
              "      <td>0</td>\n",
              "      <td>0</td>\n",
              "      <td>0</td>\n",
              "      <td>0</td>\n",
              "      <td>0</td>\n",
              "      <td>0</td>\n",
              "      <td>0</td>\n",
              "      <td>0</td>\n",
              "      <td>0</td>\n",
              "      <td>0</td>\n",
              "      <td>79</td>\n",
              "      <td>0</td>\n",
              "      <td>2</td>\n",
              "      <td>0</td>\n",
              "      <td>0</td>\n",
              "      <td>0</td>\n",
              "      <td>0</td>\n",
              "      <td>0</td>\n",
              "      <td>0</td>\n",
              "      <td>0</td>\n",
              "      <td>0</td>\n",
              "      <td>0</td>\n",
              "      <td>0</td>\n",
              "      <td>0</td>\n",
              "      <td>0</td>\n",
              "      <td>0</td>\n",
              "      <td>0</td>\n",
              "      <td>0</td>\n",
              "      <td>0</td>\n",
              "      <td>29</td>\n",
              "      <td>0</td>\n",
              "      <td>...</td>\n",
              "      <td>0</td>\n",
              "      <td>42</td>\n",
              "      <td>0</td>\n",
              "      <td>0</td>\n",
              "      <td>0</td>\n",
              "      <td>0</td>\n",
              "      <td>0</td>\n",
              "      <td>0</td>\n",
              "      <td>0</td>\n",
              "      <td>0</td>\n",
              "      <td>0</td>\n",
              "      <td>0</td>\n",
              "      <td>0</td>\n",
              "      <td>0</td>\n",
              "      <td>0</td>\n",
              "      <td>0</td>\n",
              "      <td>0</td>\n",
              "      <td>0</td>\n",
              "      <td>0</td>\n",
              "      <td>0</td>\n",
              "      <td>0</td>\n",
              "      <td>0</td>\n",
              "      <td>0</td>\n",
              "      <td>0</td>\n",
              "      <td>0</td>\n",
              "      <td>0</td>\n",
              "      <td>0</td>\n",
              "      <td>0</td>\n",
              "      <td>0</td>\n",
              "      <td>0</td>\n",
              "      <td>0</td>\n",
              "      <td>0</td>\n",
              "      <td>0</td>\n",
              "      <td>0</td>\n",
              "      <td>0</td>\n",
              "      <td>0</td>\n",
              "      <td>0</td>\n",
              "      <td>0</td>\n",
              "      <td>0</td>\n",
              "      <td>0</td>\n",
              "    </tr>\n",
              "    <tr>\n",
              "      <th>3</th>\n",
              "      <td>https://windowstoworlds.wordpress.com/2020/10/...</td>\n",
              "      <td>1</td>\n",
              "      <td>2</td>\n",
              "      <td>5</td>\n",
              "      <td>0</td>\n",
              "      <td>7</td>\n",
              "      <td>0</td>\n",
              "      <td>0</td>\n",
              "      <td>0</td>\n",
              "      <td>0</td>\n",
              "      <td>0</td>\n",
              "      <td>0</td>\n",
              "      <td>0</td>\n",
              "      <td>0</td>\n",
              "      <td>0</td>\n",
              "      <td>0</td>\n",
              "      <td>0</td>\n",
              "      <td>0</td>\n",
              "      <td>0</td>\n",
              "      <td>74</td>\n",
              "      <td>0</td>\n",
              "      <td>2</td>\n",
              "      <td>0</td>\n",
              "      <td>0</td>\n",
              "      <td>0</td>\n",
              "      <td>0</td>\n",
              "      <td>0</td>\n",
              "      <td>0</td>\n",
              "      <td>0</td>\n",
              "      <td>0</td>\n",
              "      <td>0</td>\n",
              "      <td>0</td>\n",
              "      <td>0</td>\n",
              "      <td>0</td>\n",
              "      <td>0</td>\n",
              "      <td>0</td>\n",
              "      <td>0</td>\n",
              "      <td>0</td>\n",
              "      <td>29</td>\n",
              "      <td>0</td>\n",
              "      <td>...</td>\n",
              "      <td>0</td>\n",
              "      <td>37</td>\n",
              "      <td>0</td>\n",
              "      <td>0</td>\n",
              "      <td>0</td>\n",
              "      <td>0</td>\n",
              "      <td>0</td>\n",
              "      <td>0</td>\n",
              "      <td>0</td>\n",
              "      <td>0</td>\n",
              "      <td>0</td>\n",
              "      <td>0</td>\n",
              "      <td>0</td>\n",
              "      <td>0</td>\n",
              "      <td>0</td>\n",
              "      <td>0</td>\n",
              "      <td>0</td>\n",
              "      <td>0</td>\n",
              "      <td>0</td>\n",
              "      <td>0</td>\n",
              "      <td>0</td>\n",
              "      <td>0</td>\n",
              "      <td>0</td>\n",
              "      <td>0</td>\n",
              "      <td>0</td>\n",
              "      <td>0</td>\n",
              "      <td>0</td>\n",
              "      <td>0</td>\n",
              "      <td>0</td>\n",
              "      <td>0</td>\n",
              "      <td>0</td>\n",
              "      <td>0</td>\n",
              "      <td>0</td>\n",
              "      <td>0</td>\n",
              "      <td>0</td>\n",
              "      <td>0</td>\n",
              "      <td>0</td>\n",
              "      <td>0</td>\n",
              "      <td>0</td>\n",
              "      <td>0</td>\n",
              "    </tr>\n",
              "    <tr>\n",
              "      <th>4</th>\n",
              "      <td>https://windowstoworlds.wordpress.com/2020/11/...</td>\n",
              "      <td>1</td>\n",
              "      <td>2</td>\n",
              "      <td>6</td>\n",
              "      <td>0</td>\n",
              "      <td>7</td>\n",
              "      <td>0</td>\n",
              "      <td>0</td>\n",
              "      <td>0</td>\n",
              "      <td>0</td>\n",
              "      <td>0</td>\n",
              "      <td>0</td>\n",
              "      <td>0</td>\n",
              "      <td>0</td>\n",
              "      <td>0</td>\n",
              "      <td>0</td>\n",
              "      <td>0</td>\n",
              "      <td>0</td>\n",
              "      <td>0</td>\n",
              "      <td>80</td>\n",
              "      <td>0</td>\n",
              "      <td>2</td>\n",
              "      <td>0</td>\n",
              "      <td>0</td>\n",
              "      <td>0</td>\n",
              "      <td>0</td>\n",
              "      <td>0</td>\n",
              "      <td>0</td>\n",
              "      <td>0</td>\n",
              "      <td>0</td>\n",
              "      <td>0</td>\n",
              "      <td>0</td>\n",
              "      <td>0</td>\n",
              "      <td>0</td>\n",
              "      <td>0</td>\n",
              "      <td>0</td>\n",
              "      <td>0</td>\n",
              "      <td>0</td>\n",
              "      <td>29</td>\n",
              "      <td>0</td>\n",
              "      <td>...</td>\n",
              "      <td>0</td>\n",
              "      <td>43</td>\n",
              "      <td>0</td>\n",
              "      <td>0</td>\n",
              "      <td>0</td>\n",
              "      <td>0</td>\n",
              "      <td>0</td>\n",
              "      <td>0</td>\n",
              "      <td>0</td>\n",
              "      <td>0</td>\n",
              "      <td>0</td>\n",
              "      <td>0</td>\n",
              "      <td>0</td>\n",
              "      <td>0</td>\n",
              "      <td>0</td>\n",
              "      <td>0</td>\n",
              "      <td>0</td>\n",
              "      <td>0</td>\n",
              "      <td>0</td>\n",
              "      <td>0</td>\n",
              "      <td>0</td>\n",
              "      <td>0</td>\n",
              "      <td>0</td>\n",
              "      <td>0</td>\n",
              "      <td>0</td>\n",
              "      <td>0</td>\n",
              "      <td>0</td>\n",
              "      <td>0</td>\n",
              "      <td>0</td>\n",
              "      <td>0</td>\n",
              "      <td>0</td>\n",
              "      <td>0</td>\n",
              "      <td>0</td>\n",
              "      <td>0</td>\n",
              "      <td>0</td>\n",
              "      <td>0</td>\n",
              "      <td>0</td>\n",
              "      <td>0</td>\n",
              "      <td>0</td>\n",
              "      <td>0</td>\n",
              "    </tr>\n",
              "  </tbody>\n",
              "</table>\n",
              "<p>5 rows × 97 columns</p>\n",
              "</div>"
            ],
            "text/plain": [
              "                                                 url  ... length_fragment\n",
              "0       https://windowstoworlds.wordpress.com/index/  ...               0\n",
              "1  https://windowstoworlds.wordpress.com/features...  ...               0\n",
              "2  https://windowstoworlds.wordpress.com/2021/05/...  ...               0\n",
              "3  https://windowstoworlds.wordpress.com/2020/10/...  ...               0\n",
              "4  https://windowstoworlds.wordpress.com/2020/11/...  ...               0\n",
              "\n",
              "[5 rows x 97 columns]"
            ]
          },
          "metadata": {
            "tags": []
          },
          "execution_count": 4
        }
      ]
    },
    {
      "cell_type": "markdown",
      "metadata": {
        "id": "izCNd7VzB7F1"
      },
      "source": [
        "## Target Analysis"
      ]
    },
    {
      "cell_type": "code",
      "metadata": {
        "execution": {
          "iopub.status.busy": "2021-05-28T06:29:50.104919Z",
          "iopub.execute_input": "2021-05-28T06:29:50.105245Z",
          "iopub.status.idle": "2021-05-28T06:29:50.299815Z",
          "shell.execute_reply.started": "2021-05-28T06:29:50.105217Z",
          "shell.execute_reply": "2021-05-28T06:29:50.298638Z"
        },
        "trusted": true,
        "colab": {
          "base_uri": "https://localhost:8080/",
          "height": 489
        },
        "id": "lUwd7S6PB7F1",
        "outputId": "0ece5751-d1e0-404f-c27a-c2951c4f27ad"
      },
      "source": [
        "def plotTargetCounts(data,\n",
        "                     target):\n",
        "    ###\n",
        "    ### Plots value counts of target feature as bar plot for better analysis\n",
        "    ### @params = {data: dataset to examine, target: target feature for plotting}\n",
        "    ###\n",
        "    target = data[target].value_counts()\n",
        "    plt.figure(figsize = (12,8))\n",
        "    sns.barplot(x = target.keys(),\n",
        "                y = target.values)\n",
        "    plt.show()\n",
        "\n",
        "plotTargetCounts(data, \"is_blog\")"
      ],
      "execution_count": 5,
      "outputs": [
        {
          "output_type": "display_data",
          "data": {
            "image/png": "[encoded data removed]",
            "text/plain": [
              "<Figure size 864x576 with 1 Axes>"
            ]
          },
          "metadata": {
            "tags": [],
            "needs_background": "light"
          }
        }
      ]
    },
    {
      "cell_type": "code",
      "metadata": {
        "execution": {
          "iopub.status.busy": "2021-05-28T06:29:51.006929Z",
          "iopub.execute_input": "2021-05-28T06:29:51.007282Z",
          "iopub.status.idle": "2021-05-28T06:29:51.341064Z",
          "shell.execute_reply.started": "2021-05-28T06:29:51.007253Z",
          "shell.execute_reply": "2021-05-28T06:29:51.339991Z"
        },
        "trusted": true,
        "colab": {
          "base_uri": "https://localhost:8080/",
          "height": 485
        },
        "id": "ocj0O-hZB7F1",
        "outputId": "23ac6c05-5980-47d5-9a05-29b45236b2bc"
      },
      "source": [
        "data = data[data[\"is_blog\"] != \"is_blog\"]\n",
        "data[\"is_blog\"] = data[\"is_blog\"].astype(int)\n",
        "plotTargetCounts(data, \"is_blog\")"
      ],
      "execution_count": 6,
      "outputs": [
        {
          "output_type": "display_data",
          "data": {
            "image/png": "[encoded data removed]",
            "text/plain": [
              "<Figure size 864x576 with 1 Axes>"
            ]
          },
          "metadata": {
            "tags": [],
            "needs_background": "light"
          }
        }
      ]
    },
    {
      "cell_type": "code",
      "metadata": {
        "execution": {
          "iopub.status.busy": "2021-05-28T06:29:52.045927Z",
          "iopub.execute_input": "2021-05-28T06:29:52.046291Z",
          "iopub.status.idle": "2021-05-28T06:29:52.054482Z",
          "shell.execute_reply.started": "2021-05-28T06:29:52.046258Z",
          "shell.execute_reply": "2021-05-28T06:29:52.053484Z"
        },
        "trusted": true,
        "colab": {
          "base_uri": "https://localhost:8080/"
        },
        "id": "4c3SuUw-B7F2",
        "outputId": "cf930148-5c96-49fe-885d-e42751b9d111"
      },
      "source": [
        "data[\"is_blog\"].value_counts()"
      ],
      "execution_count": 7,
      "outputs": [
        {
          "output_type": "execute_result",
          "data": {
            "text/plain": [
              "1    67562\n",
              "0    18785\n",
              "Name: is_blog, dtype: int64"
            ]
          },
          "metadata": {
            "tags": []
          },
          "execution_count": 7
        }
      ]
    },
    {
      "cell_type": "code",
      "metadata": {
        "execution": {
          "iopub.status.busy": "2021-05-28T06:29:53.635172Z",
          "iopub.execute_input": "2021-05-28T06:29:53.635461Z",
          "iopub.status.idle": "2021-05-28T06:29:53.914432Z",
          "shell.execute_reply.started": "2021-05-28T06:29:53.635436Z",
          "shell.execute_reply": "2021-05-28T06:29:53.913383Z"
        },
        "trusted": true,
        "id": "vA0KMAjkB7F2"
      },
      "source": [
        "data.drop(data[data[\"is_blog\"] == 1].index.tolist()[-42000:],\n",
        "         axis = 0,\n",
        "         inplace = True)"
      ],
      "execution_count": 8,
      "outputs": []
    },
    {
      "cell_type": "code",
      "metadata": {
        "execution": {
          "iopub.status.busy": "2021-05-28T06:29:54.063569Z",
          "iopub.execute_input": "2021-05-28T06:29:54.063939Z",
          "iopub.status.idle": "2021-05-28T06:29:54.179067Z",
          "shell.execute_reply.started": "2021-05-28T06:29:54.063897Z",
          "shell.execute_reply": "2021-05-28T06:29:54.178049Z"
        },
        "trusted": true,
        "colab": {
          "base_uri": "https://localhost:8080/",
          "height": 485
        },
        "id": "_gQ6dK6KB7F2",
        "outputId": "a0671d36-c968-45f2-eb43-7af2dbdbfed6"
      },
      "source": [
        "plotTargetCounts(data, \"is_blog\")"
      ],
      "execution_count": 9,
      "outputs": [
        {
          "output_type": "display_data",
          "data": {
            "image/png": "[encoded data removed]",
            "text/plain": [
              "<Figure size 864x576 with 1 Axes>"
            ]
          },
          "metadata": {
            "tags": [],
            "needs_background": "light"
          }
        }
      ]
    },
    {
      "cell_type": "code",
      "metadata": {
        "execution": {
          "iopub.status.busy": "2021-05-28T06:29:57.537288Z",
          "iopub.execute_input": "2021-05-28T06:29:57.537658Z",
          "iopub.status.idle": "2021-05-28T06:29:57.54522Z",
          "shell.execute_reply.started": "2021-05-28T06:29:57.537624Z",
          "shell.execute_reply": "2021-05-28T06:29:57.544258Z"
        },
        "trusted": true,
        "colab": {
          "base_uri": "https://localhost:8080/"
        },
        "id": "tO9NjCE0B7F3",
        "outputId": "184b66ab-68ff-4c26-a9f6-5136ea3fdce6"
      },
      "source": [
        "data[\"is_blog\"].value_counts()"
      ],
      "execution_count": 10,
      "outputs": [
        {
          "output_type": "execute_result",
          "data": {
            "text/plain": [
              "1    25562\n",
              "0    18785\n",
              "Name: is_blog, dtype: int64"
            ]
          },
          "metadata": {
            "tags": []
          },
          "execution_count": 10
        }
      ]
    },
    {
      "cell_type": "markdown",
      "metadata": {
        "id": "sDWd5VRGB7F3"
      },
      "source": [
        "## Missing Values"
      ]
    },
    {
      "cell_type": "code",
      "metadata": {
        "execution": {
          "iopub.status.busy": "2021-05-28T06:29:59.97332Z",
          "iopub.execute_input": "2021-05-28T06:29:59.973676Z",
          "iopub.status.idle": "2021-05-28T06:30:00.133536Z",
          "shell.execute_reply.started": "2021-05-28T06:29:59.973643Z",
          "shell.execute_reply": "2021-05-28T06:30:00.132606Z"
        },
        "trusted": true,
        "colab": {
          "base_uri": "https://localhost:8080/"
        },
        "id": "kmECV6cXB7F3",
        "outputId": "6c2977df-4ed8-4c62-a7e1-86f4b5e90582"
      },
      "source": [
        "data.isna().sum()"
      ],
      "execution_count": 11,
      "outputs": [
        {
          "output_type": "execute_result",
          "data": {
            "text/plain": [
              "url                      0\n",
              "is_blog                  0\n",
              "qty_dot_url              0\n",
              "qty_hyphen_url           0\n",
              "qty_underline_url        0\n",
              "                        ..\n",
              "qty_asterisk_fragment    0\n",
              "qty_hashtag_fragment     0\n",
              "qty_dollar_fragment      0\n",
              "qty_percent_fragment     0\n",
              "length_fragment          0\n",
              "Length: 97, dtype: int64"
            ]
          },
          "metadata": {
            "tags": []
          },
          "execution_count": 11
        }
      ]
    },
    {
      "cell_type": "code",
      "metadata": {
        "execution": {
          "iopub.status.busy": "2021-05-28T06:30:00.135112Z",
          "iopub.execute_input": "2021-05-28T06:30:00.135481Z",
          "iopub.status.idle": "2021-05-28T06:30:00.318077Z",
          "shell.execute_reply.started": "2021-05-28T06:30:00.135442Z",
          "shell.execute_reply": "2021-05-28T06:30:00.316908Z"
        },
        "trusted": true,
        "colab": {
          "base_uri": "https://localhost:8080/",
          "height": 417
        },
        "id": "qOsUAB5LB7F3",
        "outputId": "37594cfc-cd0d-4805-8b61-39f5ba5118fc"
      },
      "source": [
        "pd.DataFrame(data.isna().sum() ,\n",
        "             columns=[\"naCount\"]).\\\n",
        "             reset_index().\\\n",
        "             rename(columns = {\"index\" : \"columnName\" }).\\\n",
        "             sort_values(by = \"naCount\")"
      ],
      "execution_count": 12,
      "outputs": [
        {
          "output_type": "execute_result",
          "data": {
            "text/html": [
              "<div>\n",
              "<style scoped>\n",
              "    .dataframe tbody tr th:only-of-type {\n",
              "        vertical-align: middle;\n",
              "    }\n",
              "\n",
              "    .dataframe tbody tr th {\n",
              "        vertical-align: top;\n",
              "    }\n",
              "\n",
              "    .dataframe thead th {\n",
              "        text-align: right;\n",
              "    }\n",
              "</style>\n",
              "<table border=\"1\" class=\"dataframe\">\n",
              "  <thead>\n",
              "    <tr style=\"text-align: right;\">\n",
              "      <th></th>\n",
              "      <th>columnName</th>\n",
              "      <th>naCount</th>\n",
              "    </tr>\n",
              "  </thead>\n",
              "  <tbody>\n",
              "    <tr>\n",
              "      <th>0</th>\n",
              "      <td>url</td>\n",
              "      <td>0</td>\n",
              "    </tr>\n",
              "    <tr>\n",
              "      <th>69</th>\n",
              "      <td>qty_tilde_query</td>\n",
              "      <td>0</td>\n",
              "    </tr>\n",
              "    <tr>\n",
              "      <th>68</th>\n",
              "      <td>qty_space_query</td>\n",
              "      <td>0</td>\n",
              "    </tr>\n",
              "    <tr>\n",
              "      <th>67</th>\n",
              "      <td>qty_exclamation_query</td>\n",
              "      <td>0</td>\n",
              "    </tr>\n",
              "    <tr>\n",
              "      <th>66</th>\n",
              "      <td>qty_and_query</td>\n",
              "      <td>0</td>\n",
              "    </tr>\n",
              "    <tr>\n",
              "      <th>...</th>\n",
              "      <td>...</td>\n",
              "      <td>...</td>\n",
              "    </tr>\n",
              "    <tr>\n",
              "      <th>27</th>\n",
              "      <td>qty_at_domain</td>\n",
              "      <td>0</td>\n",
              "    </tr>\n",
              "    <tr>\n",
              "      <th>26</th>\n",
              "      <td>qty_equal_domain</td>\n",
              "      <td>0</td>\n",
              "    </tr>\n",
              "    <tr>\n",
              "      <th>25</th>\n",
              "      <td>qty_questionmark_domain</td>\n",
              "      <td>0</td>\n",
              "    </tr>\n",
              "    <tr>\n",
              "      <th>47</th>\n",
              "      <td>qty_at_path</td>\n",
              "      <td>0</td>\n",
              "    </tr>\n",
              "    <tr>\n",
              "      <th>96</th>\n",
              "      <td>length_fragment</td>\n",
              "      <td>0</td>\n",
              "    </tr>\n",
              "  </tbody>\n",
              "</table>\n",
              "<p>97 rows × 2 columns</p>\n",
              "</div>"
            ],
            "text/plain": [
              "                 columnName  naCount\n",
              "0                       url        0\n",
              "69          qty_tilde_query        0\n",
              "68          qty_space_query        0\n",
              "67    qty_exclamation_query        0\n",
              "66            qty_and_query        0\n",
              "..                      ...      ...\n",
              "27            qty_at_domain        0\n",
              "26         qty_equal_domain        0\n",
              "25  qty_questionmark_domain        0\n",
              "47              qty_at_path        0\n",
              "96          length_fragment        0\n",
              "\n",
              "[97 rows x 2 columns]"
            ]
          },
          "metadata": {
            "tags": []
          },
          "execution_count": 12
        }
      ]
    },
    {
      "cell_type": "markdown",
      "metadata": {
        "id": "iynygzbDB7F3"
      },
      "source": [
        "## Outlier Analysis"
      ]
    },
    {
      "cell_type": "code",
      "metadata": {
        "execution": {
          "iopub.status.busy": "2021-05-28T06:30:03.778231Z",
          "iopub.execute_input": "2021-05-28T06:30:03.778564Z",
          "iopub.status.idle": "2021-05-28T06:30:04.177284Z",
          "shell.execute_reply.started": "2021-05-28T06:30:03.778535Z",
          "shell.execute_reply": "2021-05-28T06:30:04.176207Z"
        },
        "trusted": true,
        "colab": {
          "base_uri": "https://localhost:8080/"
        },
        "id": "tII0Jo2OB7F4",
        "outputId": "64855d1a-d487-4f6e-fa73-8f12d092d884"
      },
      "source": [
        "colsForOutlierAnalyze = [col for col in data.columns if len(data[col].value_counts().keys()) > 100]\n",
        "colsForOutlierAnalyze"
      ],
      "execution_count": 13,
      "outputs": [
        {
          "output_type": "execute_result",
          "data": {
            "text/plain": [
              "['url', 'length_url', 'length_path']"
            ]
          },
          "metadata": {
            "tags": []
          },
          "execution_count": 13
        }
      ]
    },
    {
      "cell_type": "code",
      "metadata": {
        "trusted": true,
        "id": "p4XjtypVB7F4"
      },
      "source": [
        "def boxPlot(data, colsForOutlierAnalyze):\n",
        "## \n",
        "## Boxplots for detect outlier values\n",
        "## @params = {data: dataset for analyze, colsForOutlierAnalyze: Numeric columns in dataset}\n",
        "##\n",
        "    plt.subplots(nrows = 3,\n",
        "              ncols = 1,\n",
        "              figsize = (15,15))\n",
        "    for i in range(len(colsForOutlierAnalyze)):\n",
        "        plt.subplot(3,1,i+1)\n",
        "        sns.boxplot(x = \"is_blog\", y = colsForOutlierAnalyze[i], data = data)\n",
        "  #plt.title(colsForOutlierAnalyze[i])\n",
        "#boxPlot(data, colsForOutlierAnalyze)"
      ],
      "execution_count": null,
      "outputs": []
    },
    {
      "cell_type": "markdown",
      "metadata": {
        "id": "qCqYMZAaB7F4"
      },
      "source": [
        "## Dtypes"
      ]
    },
    {
      "cell_type": "code",
      "metadata": {
        "execution": {
          "iopub.status.busy": "2021-05-28T06:31:50.092957Z",
          "iopub.execute_input": "2021-05-28T06:31:50.0933Z",
          "iopub.status.idle": "2021-05-28T06:31:50.100516Z",
          "shell.execute_reply.started": "2021-05-28T06:31:50.09327Z",
          "shell.execute_reply": "2021-05-28T06:31:50.099563Z"
        },
        "trusted": true,
        "colab": {
          "base_uri": "https://localhost:8080/"
        },
        "id": "ofbNN57cB7F4",
        "outputId": "6b1e1c70-98a8-4455-f2c1-964dabd759cc"
      },
      "source": [
        "data.dtypes"
      ],
      "execution_count": 15,
      "outputs": [
        {
          "output_type": "execute_result",
          "data": {
            "text/plain": [
              "url                      object\n",
              "is_blog                   int64\n",
              "qty_dot_url              object\n",
              "qty_hyphen_url           object\n",
              "qty_underline_url        object\n",
              "                          ...  \n",
              "qty_asterisk_fragment    object\n",
              "qty_hashtag_fragment     object\n",
              "qty_dollar_fragment      object\n",
              "qty_percent_fragment     object\n",
              "length_fragment          object\n",
              "Length: 97, dtype: object"
            ]
          },
          "metadata": {
            "tags": []
          },
          "execution_count": 15
        }
      ]
    },
    {
      "cell_type": "code",
      "metadata": {
        "execution": {
          "iopub.status.busy": "2021-05-28T06:31:50.21907Z",
          "iopub.execute_input": "2021-05-28T06:31:50.21941Z",
          "iopub.status.idle": "2021-05-28T06:31:51.802337Z",
          "shell.execute_reply.started": "2021-05-28T06:31:50.219379Z",
          "shell.execute_reply": "2021-05-28T06:31:51.801427Z"
        },
        "trusted": true,
        "id": "wMbramcBB7F4"
      },
      "source": [
        "for column in data.columns[1:]:\n",
        "    data[column] = data[column].astype(int)"
      ],
      "execution_count": 16,
      "outputs": []
    },
    {
      "cell_type": "code",
      "metadata": {
        "execution": {
          "iopub.status.busy": "2021-05-28T06:31:51.803787Z",
          "iopub.execute_input": "2021-05-28T06:31:51.804182Z",
          "iopub.status.idle": "2021-05-28T06:31:51.884884Z",
          "shell.execute_reply.started": "2021-05-28T06:31:51.804142Z",
          "shell.execute_reply": "2021-05-28T06:31:51.883919Z"
        },
        "trusted": true,
        "id": "WaraIEHmB7F5"
      },
      "source": [
        "data = data.sample(frac=1).reset_index(drop=True) ## Need to shuffle dataset"
      ],
      "execution_count": 17,
      "outputs": []
    },
    {
      "cell_type": "markdown",
      "metadata": {
        "id": "UXXs6xS8B7F5"
      },
      "source": [
        "# Train-Test Split"
      ]
    },
    {
      "cell_type": "code",
      "metadata": {
        "execution": {
          "iopub.status.busy": "2021-05-28T06:31:53.750905Z",
          "iopub.execute_input": "2021-05-28T06:31:53.75125Z",
          "iopub.status.idle": "2021-05-28T06:31:53.757254Z",
          "shell.execute_reply.started": "2021-05-28T06:31:53.751222Z",
          "shell.execute_reply": "2021-05-28T06:31:53.756491Z"
        },
        "trusted": true,
        "id": "moA9rXbLB7F5"
      },
      "source": [
        "def trainTestSplitData(data, trainLen, valLen):\n",
        "##\n",
        "## Splits data for train (Model Training) and test (Model Evaluating)\n",
        "## @params = {data: data for split, testLen: train data ratio}\n",
        "## @returns = {x_train, x_test, y_train, y_test, x_val, y_val : base and target data for model}\n",
        "##\n",
        "    X = data.drop([\"is_blog\", \"url\"], \n",
        "                  axis = 1)\n",
        "    y = data[\"is_blog\"]\n",
        "    urls = data[\"url\"]\n",
        "    trainLen = int(data.shape[0] * trainLen)\n",
        "    valLen = trainLen - int(trainLen * valLen)  \n",
        "    x_train, x_test, y_train, y_test, test_urls = X[:trainLen], X[trainLen:], y[:trainLen], y[trainLen:], urls[trainLen:]\n",
        "    x_train, x_val, y_train, y_val = x_train[:valLen], x_train[valLen:], y_train[:valLen], y_train[valLen:]\n",
        "    del X\n",
        "    del y\n",
        "    return x_train, x_test, x_val, y_train, y_test, y_val, test_urls"
      ],
      "execution_count": 18,
      "outputs": []
    },
    {
      "cell_type": "code",
      "metadata": {
        "execution": {
          "iopub.status.busy": "2021-05-28T06:31:54.459355Z",
          "iopub.execute_input": "2021-05-28T06:31:54.459839Z",
          "iopub.status.idle": "2021-05-28T06:31:54.477165Z",
          "shell.execute_reply.started": "2021-05-28T06:31:54.459805Z",
          "shell.execute_reply": "2021-05-28T06:31:54.475941Z"
        },
        "trusted": true,
        "id": "r4K2pw4AB7F5"
      },
      "source": [
        "x_train, x_test, x_val, y_train, y_test, y_val, test_urls = trainTestSplitData(data, 0.8, 0.15)"
      ],
      "execution_count": 19,
      "outputs": []
    },
    {
      "cell_type": "code",
      "metadata": {
        "execution": {
          "iopub.status.busy": "2021-05-28T06:31:55.111161Z",
          "iopub.execute_input": "2021-05-28T06:31:55.111493Z",
          "iopub.status.idle": "2021-05-28T06:31:55.116516Z",
          "shell.execute_reply.started": "2021-05-28T06:31:55.111456Z",
          "shell.execute_reply": "2021-05-28T06:31:55.115706Z"
        },
        "trusted": true,
        "colab": {
          "base_uri": "https://localhost:8080/"
        },
        "id": "jvOtd0SdB7F5",
        "outputId": "8668e256-c7c3-41b6-c647-34700d23f43f"
      },
      "source": [
        "print(f\"Train Data Shape: {x_train.shape} Train Target Shape: {y_train.shape}\")\n",
        "print(f\"Validation Data Shape: {x_val.shape} Validation Target Shape: {y_val.shape}\")\n",
        "print(f\"Test Data Shape: {x_test.shape} Test Target Shape: {y_test.shape}\")"
      ],
      "execution_count": 20,
      "outputs": [
        {
          "output_type": "stream",
          "text": [
            "Train Data Shape: (30156, 95) Train Target Shape: (30156,)\n",
            "Validation Data Shape: (5321, 95) Validation Target Shape: (5321,)\n",
            "Test Data Shape: (8870, 95) Test Target Shape: (8870,)\n"
          ],
          "name": "stdout"
        }
      ]
    },
    {
      "cell_type": "markdown",
      "metadata": {
        "id": "M4CMdKdpB7F6"
      },
      "source": [
        "# Model Selection"
      ]
    },
    {
      "cell_type": "code",
      "metadata": {
        "execution": {
          "iopub.status.busy": "2021-05-28T06:31:56.549333Z",
          "iopub.execute_input": "2021-05-28T06:31:56.549841Z",
          "iopub.status.idle": "2021-05-28T06:31:56.557889Z",
          "shell.execute_reply.started": "2021-05-28T06:31:56.549807Z",
          "shell.execute_reply": "2021-05-28T06:31:56.557003Z"
        },
        "trusted": true,
        "id": "3MhEoWhiB7F6"
      },
      "source": [
        "def gridSearchCrossValidation(tunedParams,\n",
        "                              scores,\n",
        "                              x_train,\n",
        "                              x_val,\n",
        "                              y_train,\n",
        "                              y_val,\n",
        "                              modelType = \"KNN\"\n",
        "                              ):\n",
        "    ###\n",
        "    ### Cross Validation for test model metric and hyper-parameter tuning\n",
        "    ### @params = {tunedParams: hyper-parameters for dataset, scores: accuracy metrics, x_train/y_train/x_val/y_val: datasets, modelType: algorithm type (KNN, RF, XGB)}\n",
        "    ###\n",
        "    for score in scores:\n",
        "        print(f\"Hyper-Parameter Tuning for {score}\")\n",
        "        if modelType == \"KNN\":\n",
        "            model = GridSearchCV(KNeighborsClassifier(),\n",
        "                       tunedParams,\n",
        "                       scoring = f\"{score}_macro\")\n",
        "        elif modelType == \"RF\":\n",
        "            model = GridSearchCV((RandomForestClassifier()),\n",
        "                       tunedParams,\n",
        "                       scoring = f\"{score}_macro\")\n",
        "        elif modelType == \"XGB\":\n",
        "            model = GridSearchCV(xg.XGBClassifier(),\n",
        "                       tunedParams,\n",
        "                       scoring = f\"{score}_macro\")\n",
        "        \n",
        "        model.fit(x_train, y_train)\n",
        "        print(\"Best parameters set found on development set:\")\n",
        "        print(model.best_params_)\n",
        "        print(\"Grid scores on development set:\")\n",
        "        means = model.cv_results_['mean_test_score']\n",
        "        stds = model.cv_results_['std_test_score']\n",
        "        for mean, std, params in zip(means, stds, model.cv_results_['params']):\n",
        "            print(\"%0.3f (+/-%0.03f) for %r\"\n",
        "                  % (mean, std * 2, params))\n",
        "        print(\"Detailed classification report:\")\n",
        "        y_true, y_pred = y_val, model.predict(x_val)\n",
        "        print(classification_report(y_true, y_pred))"
      ],
      "execution_count": 21,
      "outputs": []
    },
    {
      "cell_type": "code",
      "metadata": {
        "execution": {
          "iopub.status.busy": "2021-05-28T06:31:57.461004Z",
          "iopub.execute_input": "2021-05-28T06:31:57.461545Z",
          "iopub.status.idle": "2021-05-28T06:48:53.898027Z",
          "shell.execute_reply.started": "2021-05-28T06:31:57.461511Z",
          "shell.execute_reply": "2021-05-28T06:48:53.896962Z"
        },
        "trusted": true,
        "colab": {
          "base_uri": "https://localhost:8080/"
        },
        "id": "NMJbF9F-B7F6",
        "outputId": "95d2b1b4-12dc-48b4-d739-a9d7efd757bf"
      },
      "source": [
        "tunedParams = [{\"n_neighbors\": [3,5,7],\n",
        "                \"weights\": [\"uniform\", \"distance\"],\n",
        "                \"p\": [1,2]}]\n",
        "scores = [\"precision\", \"recall\"]\n",
        "gridSearchCrossValidation(tunedParams,\n",
        "                          scores,\n",
        "                          x_train,\n",
        "                          x_val,\n",
        "                          y_train,\n",
        "                          y_val,\n",
        "                          modelType = \"KNN\")"
      ],
      "execution_count": 22,
      "outputs": [
        {
          "output_type": "stream",
          "text": [
            "Hyper-Parameter Tuning for precision\n",
            "Best parameters set found on development set:\n",
            "{'n_neighbors': 3, 'p': 1, 'weights': 'distance'}\n",
            "Grid scores on development set:\n",
            "0.994 (+/-0.002) for {'n_neighbors': 3, 'p': 1, 'weights': 'uniform'}\n",
            "0.995 (+/-0.001) for {'n_neighbors': 3, 'p': 1, 'weights': 'distance'}\n",
            "0.994 (+/-0.002) for {'n_neighbors': 3, 'p': 2, 'weights': 'uniform'}\n",
            "0.995 (+/-0.001) for {'n_neighbors': 3, 'p': 2, 'weights': 'distance'}\n",
            "0.991 (+/-0.004) for {'n_neighbors': 5, 'p': 1, 'weights': 'uniform'}\n",
            "0.995 (+/-0.002) for {'n_neighbors': 5, 'p': 1, 'weights': 'distance'}\n",
            "0.991 (+/-0.003) for {'n_neighbors': 5, 'p': 2, 'weights': 'uniform'}\n",
            "0.994 (+/-0.002) for {'n_neighbors': 5, 'p': 2, 'weights': 'distance'}\n",
            "0.990 (+/-0.003) for {'n_neighbors': 7, 'p': 1, 'weights': 'uniform'}\n",
            "0.994 (+/-0.002) for {'n_neighbors': 7, 'p': 1, 'weights': 'distance'}\n",
            "0.990 (+/-0.003) for {'n_neighbors': 7, 'p': 2, 'weights': 'uniform'}\n",
            "0.994 (+/-0.002) for {'n_neighbors': 7, 'p': 2, 'weights': 'distance'}\n",
            "Detailed classification report:\n",
            "              precision    recall  f1-score   support\n",
            "\n",
            "           0       1.00      1.00      1.00      2333\n",
            "           1       1.00      1.00      1.00      2988\n",
            "\n",
            "    accuracy                           1.00      5321\n",
            "   macro avg       1.00      1.00      1.00      5321\n",
            "weighted avg       1.00      1.00      1.00      5321\n",
            "\n",
            "Hyper-Parameter Tuning for recall\n",
            "Best parameters set found on development set:\n",
            "{'n_neighbors': 3, 'p': 1, 'weights': 'distance'}\n",
            "Grid scores on development set:\n",
            "0.994 (+/-0.002) for {'n_neighbors': 3, 'p': 1, 'weights': 'uniform'}\n",
            "0.995 (+/-0.002) for {'n_neighbors': 3, 'p': 1, 'weights': 'distance'}\n",
            "0.994 (+/-0.002) for {'n_neighbors': 3, 'p': 2, 'weights': 'uniform'}\n",
            "0.995 (+/-0.001) for {'n_neighbors': 3, 'p': 2, 'weights': 'distance'}\n",
            "0.993 (+/-0.003) for {'n_neighbors': 5, 'p': 1, 'weights': 'uniform'}\n",
            "0.995 (+/-0.002) for {'n_neighbors': 5, 'p': 1, 'weights': 'distance'}\n",
            "0.992 (+/-0.003) for {'n_neighbors': 5, 'p': 2, 'weights': 'uniform'}\n",
            "0.995 (+/-0.002) for {'n_neighbors': 5, 'p': 2, 'weights': 'distance'}\n",
            "0.992 (+/-0.003) for {'n_neighbors': 7, 'p': 1, 'weights': 'uniform'}\n",
            "0.995 (+/-0.002) for {'n_neighbors': 7, 'p': 1, 'weights': 'distance'}\n",
            "0.991 (+/-0.003) for {'n_neighbors': 7, 'p': 2, 'weights': 'uniform'}\n",
            "0.995 (+/-0.002) for {'n_neighbors': 7, 'p': 2, 'weights': 'distance'}\n",
            "Detailed classification report:\n",
            "              precision    recall  f1-score   support\n",
            "\n",
            "           0       1.00      1.00      1.00      2333\n",
            "           1       1.00      1.00      1.00      2988\n",
            "\n",
            "    accuracy                           1.00      5321\n",
            "   macro avg       1.00      1.00      1.00      5321\n",
            "weighted avg       1.00      1.00      1.00      5321\n",
            "\n"
          ],
          "name": "stdout"
        }
      ]
    },
    {
      "cell_type": "code",
      "metadata": {
        "execution": {
          "iopub.status.busy": "2021-05-28T06:48:53.899892Z",
          "iopub.execute_input": "2021-05-28T06:48:53.900186Z",
          "iopub.status.idle": "2021-05-28T06:50:50.403622Z",
          "shell.execute_reply.started": "2021-05-28T06:48:53.900154Z",
          "shell.execute_reply": "2021-05-28T06:50:50.402295Z"
        },
        "trusted": true,
        "colab": {
          "base_uri": "https://localhost:8080/"
        },
        "id": "aqRZ6ZkuB7F7",
        "outputId": "fb713e3f-3ee4-447e-ad45-8e112960dbf9"
      },
      "source": [
        "tunedParams = [{\"n_estimators\": [10, 50, 100],\n",
        "                \"criterion\": [\"gini\", \"entropy\"],\n",
        "                \"max_features\": [\"auto\", \"sqrt\", \"log2\"]}]\n",
        "scores = [\"precision\", \"recall\"]\n",
        "gridSearchCrossValidation(tunedParams,\n",
        "                          scores,\n",
        "                          x_train,\n",
        "                          x_val,\n",
        "                          y_train,\n",
        "                          y_val,\n",
        "                          modelType = \"RF\")"
      ],
      "execution_count": 23,
      "outputs": [
        {
          "output_type": "stream",
          "text": [
            "Hyper-Parameter Tuning for precision\n",
            "Best parameters set found on development set:\n",
            "{'criterion': 'gini', 'max_features': 'sqrt', 'n_estimators': 100}\n",
            "Grid scores on development set:\n",
            "0.998 (+/-0.002) for {'criterion': 'gini', 'max_features': 'auto', 'n_estimators': 10}\n",
            "0.999 (+/-0.001) for {'criterion': 'gini', 'max_features': 'auto', 'n_estimators': 50}\n",
            "0.999 (+/-0.001) for {'criterion': 'gini', 'max_features': 'auto', 'n_estimators': 100}\n",
            "0.999 (+/-0.001) for {'criterion': 'gini', 'max_features': 'sqrt', 'n_estimators': 10}\n",
            "0.999 (+/-0.001) for {'criterion': 'gini', 'max_features': 'sqrt', 'n_estimators': 50}\n",
            "0.999 (+/-0.001) for {'criterion': 'gini', 'max_features': 'sqrt', 'n_estimators': 100}\n",
            "0.999 (+/-0.001) for {'criterion': 'gini', 'max_features': 'log2', 'n_estimators': 10}\n",
            "0.999 (+/-0.001) for {'criterion': 'gini', 'max_features': 'log2', 'n_estimators': 50}\n",
            "0.999 (+/-0.001) for {'criterion': 'gini', 'max_features': 'log2', 'n_estimators': 100}\n",
            "0.998 (+/-0.001) for {'criterion': 'entropy', 'max_features': 'auto', 'n_estimators': 10}\n",
            "0.999 (+/-0.001) for {'criterion': 'entropy', 'max_features': 'auto', 'n_estimators': 50}\n",
            "0.999 (+/-0.001) for {'criterion': 'entropy', 'max_features': 'auto', 'n_estimators': 100}\n",
            "0.998 (+/-0.001) for {'criterion': 'entropy', 'max_features': 'sqrt', 'n_estimators': 10}\n",
            "0.999 (+/-0.001) for {'criterion': 'entropy', 'max_features': 'sqrt', 'n_estimators': 50}\n",
            "0.999 (+/-0.001) for {'criterion': 'entropy', 'max_features': 'sqrt', 'n_estimators': 100}\n",
            "0.998 (+/-0.001) for {'criterion': 'entropy', 'max_features': 'log2', 'n_estimators': 10}\n",
            "0.999 (+/-0.001) for {'criterion': 'entropy', 'max_features': 'log2', 'n_estimators': 50}\n",
            "0.999 (+/-0.001) for {'criterion': 'entropy', 'max_features': 'log2', 'n_estimators': 100}\n",
            "Detailed classification report:\n",
            "              precision    recall  f1-score   support\n",
            "\n",
            "           0       1.00      1.00      1.00      2333\n",
            "           1       1.00      1.00      1.00      2988\n",
            "\n",
            "    accuracy                           1.00      5321\n",
            "   macro avg       1.00      1.00      1.00      5321\n",
            "weighted avg       1.00      1.00      1.00      5321\n",
            "\n",
            "Hyper-Parameter Tuning for recall\n",
            "Best parameters set found on development set:\n",
            "{'criterion': 'entropy', 'max_features': 'auto', 'n_estimators': 50}\n",
            "Grid scores on development set:\n",
            "0.999 (+/-0.001) for {'criterion': 'gini', 'max_features': 'auto', 'n_estimators': 10}\n",
            "0.999 (+/-0.001) for {'criterion': 'gini', 'max_features': 'auto', 'n_estimators': 50}\n",
            "0.999 (+/-0.001) for {'criterion': 'gini', 'max_features': 'auto', 'n_estimators': 100}\n",
            "0.998 (+/-0.001) for {'criterion': 'gini', 'max_features': 'sqrt', 'n_estimators': 10}\n",
            "0.999 (+/-0.001) for {'criterion': 'gini', 'max_features': 'sqrt', 'n_estimators': 50}\n",
            "0.999 (+/-0.001) for {'criterion': 'gini', 'max_features': 'sqrt', 'n_estimators': 100}\n",
            "0.998 (+/-0.001) for {'criterion': 'gini', 'max_features': 'log2', 'n_estimators': 10}\n",
            "0.999 (+/-0.001) for {'criterion': 'gini', 'max_features': 'log2', 'n_estimators': 50}\n",
            "0.999 (+/-0.001) for {'criterion': 'gini', 'max_features': 'log2', 'n_estimators': 100}\n",
            "0.998 (+/-0.002) for {'criterion': 'entropy', 'max_features': 'auto', 'n_estimators': 10}\n",
            "0.999 (+/-0.001) for {'criterion': 'entropy', 'max_features': 'auto', 'n_estimators': 50}\n",
            "0.999 (+/-0.001) for {'criterion': 'entropy', 'max_features': 'auto', 'n_estimators': 100}\n",
            "0.998 (+/-0.002) for {'criterion': 'entropy', 'max_features': 'sqrt', 'n_estimators': 10}\n",
            "0.999 (+/-0.001) for {'criterion': 'entropy', 'max_features': 'sqrt', 'n_estimators': 50}\n",
            "0.999 (+/-0.001) for {'criterion': 'entropy', 'max_features': 'sqrt', 'n_estimators': 100}\n",
            "0.998 (+/-0.001) for {'criterion': 'entropy', 'max_features': 'log2', 'n_estimators': 10}\n",
            "0.998 (+/-0.002) for {'criterion': 'entropy', 'max_features': 'log2', 'n_estimators': 50}\n",
            "0.998 (+/-0.001) for {'criterion': 'entropy', 'max_features': 'log2', 'n_estimators': 100}\n",
            "Detailed classification report:\n",
            "              precision    recall  f1-score   support\n",
            "\n",
            "           0       1.00      1.00      1.00      2333\n",
            "           1       1.00      1.00      1.00      2988\n",
            "\n",
            "    accuracy                           1.00      5321\n",
            "   macro avg       1.00      1.00      1.00      5321\n",
            "weighted avg       1.00      1.00      1.00      5321\n",
            "\n"
          ],
          "name": "stdout"
        }
      ]
    },
    {
      "cell_type": "code",
      "metadata": {
        "execution": {
          "iopub.status.busy": "2021-05-28T06:50:50.406538Z",
          "iopub.execute_input": "2021-05-28T06:50:50.407022Z",
          "iopub.status.idle": "2021-05-28T06:52:24.220432Z",
          "shell.execute_reply.started": "2021-05-28T06:50:50.406975Z",
          "shell.execute_reply": "2021-05-28T06:52:24.219413Z"
        },
        "trusted": true,
        "colab": {
          "base_uri": "https://localhost:8080/"
        },
        "id": "jZk5vqzsB7F7",
        "outputId": "72100d97-1428-419c-9297-1efcda7fe67e"
      },
      "source": [
        "tunedParams = [{\"min_child_weight\": [5, 10],\n",
        "                \"colsample_bytree\": [0.6, 0.8]}]\n",
        "scores = [\"precision\", \"recall\"]\n",
        "gridSearchCrossValidation(tunedParams,\n",
        "                          scores,\n",
        "                          x_train,\n",
        "                          x_val,\n",
        "                          y_train,\n",
        "                          y_val,\n",
        "                          modelType = \"XGB\")"
      ],
      "execution_count": 24,
      "outputs": [
        {
          "output_type": "stream",
          "text": [
            "Hyper-Parameter Tuning for precision\n",
            "Best parameters set found on development set:\n",
            "{'colsample_bytree': 0.6, 'min_child_weight': 5}\n",
            "Grid scores on development set:\n",
            "0.999 (+/-0.001) for {'colsample_bytree': 0.6, 'min_child_weight': 5}\n",
            "0.998 (+/-0.001) for {'colsample_bytree': 0.6, 'min_child_weight': 10}\n",
            "0.999 (+/-0.001) for {'colsample_bytree': 0.8, 'min_child_weight': 5}\n",
            "0.998 (+/-0.001) for {'colsample_bytree': 0.8, 'min_child_weight': 10}\n",
            "Detailed classification report:\n",
            "              precision    recall  f1-score   support\n",
            "\n",
            "           0       1.00      1.00      1.00      2333\n",
            "           1       1.00      1.00      1.00      2988\n",
            "\n",
            "    accuracy                           1.00      5321\n",
            "   macro avg       1.00      1.00      1.00      5321\n",
            "weighted avg       1.00      1.00      1.00      5321\n",
            "\n",
            "Hyper-Parameter Tuning for recall\n",
            "Best parameters set found on development set:\n",
            "{'colsample_bytree': 0.8, 'min_child_weight': 5}\n",
            "Grid scores on development set:\n",
            "0.998 (+/-0.001) for {'colsample_bytree': 0.6, 'min_child_weight': 5}\n",
            "0.998 (+/-0.001) for {'colsample_bytree': 0.6, 'min_child_weight': 10}\n",
            "0.998 (+/-0.002) for {'colsample_bytree': 0.8, 'min_child_weight': 5}\n",
            "0.998 (+/-0.001) for {'colsample_bytree': 0.8, 'min_child_weight': 10}\n",
            "Detailed classification report:\n",
            "              precision    recall  f1-score   support\n",
            "\n",
            "           0       1.00      1.00      1.00      2333\n",
            "           1       1.00      1.00      1.00      2988\n",
            "\n",
            "    accuracy                           1.00      5321\n",
            "   macro avg       1.00      1.00      1.00      5321\n",
            "weighted avg       1.00      1.00      1.00      5321\n",
            "\n"
          ],
          "name": "stdout"
        }
      ]
    },
    {
      "cell_type": "markdown",
      "metadata": {
        "id": "JLql6zRIB7F8"
      },
      "source": [
        "# Model Evaluation"
      ]
    },
    {
      "cell_type": "code",
      "metadata": {
        "execution": {
          "iopub.status.busy": "2021-05-28T06:52:31.269818Z",
          "iopub.execute_input": "2021-05-28T06:52:31.270144Z",
          "iopub.status.idle": "2021-05-28T06:52:33.873702Z",
          "shell.execute_reply.started": "2021-05-28T06:52:31.270115Z",
          "shell.execute_reply": "2021-05-28T06:52:33.872835Z"
        },
        "trusted": true,
        "colab": {
          "base_uri": "https://localhost:8080/"
        },
        "id": "4NpbF4mBB7F8",
        "outputId": "d560944e-4fc9-4563-80a6-aa48c3695926"
      },
      "source": [
        "model = xg.XGBClassifier(colsample_bytree =  0.6, \n",
        "                         min_child_weight = 5)\n",
        "model.fit(x_train, y_train)"
      ],
      "execution_count": 25,
      "outputs": [
        {
          "output_type": "execute_result",
          "data": {
            "text/plain": [
              "XGBClassifier(base_score=0.5, booster='gbtree', colsample_bylevel=1,\n",
              "              colsample_bynode=1, colsample_bytree=0.6, gamma=0,\n",
              "              learning_rate=0.1, max_delta_step=0, max_depth=3,\n",
              "              min_child_weight=5, missing=None, n_estimators=100, n_jobs=1,\n",
              "              nthread=None, objective='binary:logistic', random_state=0,\n",
              "              reg_alpha=0, reg_lambda=1, scale_pos_weight=1, seed=None,\n",
              "              silent=None, subsample=1, verbosity=1)"
            ]
          },
          "metadata": {
            "tags": []
          },
          "execution_count": 25
        }
      ]
    },
    {
      "cell_type": "code",
      "metadata": {
        "execution": {
          "iopub.status.busy": "2021-05-28T06:52:37.702101Z",
          "iopub.execute_input": "2021-05-28T06:52:37.702412Z",
          "iopub.status.idle": "2021-05-28T06:52:37.954412Z",
          "shell.execute_reply.started": "2021-05-28T06:52:37.702386Z",
          "shell.execute_reply": "2021-05-28T06:52:37.953526Z"
        },
        "trusted": true,
        "colab": {
          "base_uri": "https://localhost:8080/",
          "height": 318
        },
        "id": "jLhHto2YB7F8",
        "outputId": "5fa9acba-2cd3-4f9e-a0f0-3d7f97bc36fe"
      },
      "source": [
        "plt.figure(figsize= (20,20))\n",
        "plot_roc_curve(model, x_test, y_test)\n",
        "plt.title(\"Roc Curve\")\n",
        "plt.show()"
      ],
      "execution_count": 26,
      "outputs": [
        {
          "output_type": "display_data",
          "data": {
            "text/plain": [
              "<Figure size 1440x1440 with 0 Axes>"
            ]
          },
          "metadata": {
            "tags": []
          }
        },
        {
          "output_type": "display_data",
          "data": {
            "image/png": "[encoded data removed]",
            "text/plain": [
              "<Figure size 432x288 with 1 Axes>"
            ]
          },
          "metadata": {
            "tags": [],
            "needs_background": "light"
          }
        }
      ]
    },
    {
      "cell_type": "code",
      "metadata": {
        "execution": {
          "iopub.status.busy": "2021-05-28T06:54:02.378025Z",
          "iopub.execute_input": "2021-05-28T06:54:02.378426Z",
          "iopub.status.idle": "2021-05-28T06:54:02.584435Z",
          "shell.execute_reply.started": "2021-05-28T06:54:02.378394Z",
          "shell.execute_reply": "2021-05-28T06:54:02.583371Z"
        },
        "trusted": true,
        "colab": {
          "base_uri": "https://localhost:8080/",
          "height": 301
        },
        "id": "4xItGjqAB7F8",
        "outputId": "0442875c-e519-49e7-ae46-7f4e4fbaabee"
      },
      "source": [
        "plot_importance(model, max_num_features=10) # top 10 most important features\n",
        "plt.show()"
      ],
      "execution_count": 27,
      "outputs": [
        {
          "output_type": "display_data",
          "data": {
            "image/png": "[encoded data removed]",
            "text/plain": [
              "<Figure size 432x288 with 1 Axes>"
            ]
          },
          "metadata": {
            "tags": [],
            "needs_background": "light"
          }
        }
      ]
    },
    {
      "cell_type": "code",
      "metadata": {
        "execution": {
          "iopub.status.busy": "2021-05-28T06:54:25.13934Z",
          "iopub.execute_input": "2021-05-28T06:54:25.139687Z",
          "iopub.status.idle": "2021-05-28T06:54:25.187778Z",
          "shell.execute_reply.started": "2021-05-28T06:54:25.139658Z",
          "shell.execute_reply": "2021-05-28T06:54:25.186838Z"
        },
        "trusted": true,
        "colab": {
          "base_uri": "https://localhost:8080/",
          "height": 417
        },
        "id": "x7kNiL1QB7F8",
        "outputId": "fd627ad0-4a47-4211-9a5d-d247fdd73417"
      },
      "source": [
        "predicts = model.predict(x_test)\n",
        "predictionData = {\"Index\": test_urls,\n",
        "                      \"Actual\": y_test,\n",
        "                      \"Prediction\": predicts}\n",
        "predictionData = pd.DataFrame(predictionData)\n",
        "predictionData"
      ],
      "execution_count": 28,
      "outputs": [
        {
          "output_type": "execute_result",
          "data": {
            "text/html": [
              "<div>\n",
              "<style scoped>\n",
              "    .dataframe tbody tr th:only-of-type {\n",
              "        vertical-align: middle;\n",
              "    }\n",
              "\n",
              "    .dataframe tbody tr th {\n",
              "        vertical-align: top;\n",
              "    }\n",
              "\n",
              "    .dataframe thead th {\n",
              "        text-align: right;\n",
              "    }\n",
              "</style>\n",
              "<table border=\"1\" class=\"dataframe\">\n",
              "  <thead>\n",
              "    <tr style=\"text-align: right;\">\n",
              "      <th></th>\n",
              "      <th>Index</th>\n",
              "      <th>Actual</th>\n",
              "      <th>Prediction</th>\n",
              "    </tr>\n",
              "  </thead>\n",
              "  <tbody>\n",
              "    <tr>\n",
              "      <th>35477</th>\n",
              "      <td>https://www.oyunskor.com/oyun/miranda-manicure</td>\n",
              "      <td>0</td>\n",
              "      <td>0</td>\n",
              "    </tr>\n",
              "    <tr>\n",
              "      <th>35478</th>\n",
              "      <td>http://addictedtoromance.org/books/cupids-ench...</td>\n",
              "      <td>1</td>\n",
              "      <td>1</td>\n",
              "    </tr>\n",
              "    <tr>\n",
              "      <th>35479</th>\n",
              "      <td>https://kitchentoast.com/wheatgrass-juicer-man...</td>\n",
              "      <td>1</td>\n",
              "      <td>1</td>\n",
              "    </tr>\n",
              "    <tr>\n",
              "      <th>35480</th>\n",
              "      <td>https://www.oyunskor.com/oyun/bubble-witch</td>\n",
              "      <td>0</td>\n",
              "      <td>0</td>\n",
              "    </tr>\n",
              "    <tr>\n",
              "      <th>35481</th>\n",
              "      <td>https://thegeekybibliophile.wordpress.com/2016...</td>\n",
              "      <td>1</td>\n",
              "      <td>1</td>\n",
              "    </tr>\n",
              "    <tr>\n",
              "      <th>...</th>\n",
              "      <td>...</td>\n",
              "      <td>...</td>\n",
              "      <td>...</td>\n",
              "    </tr>\n",
              "    <tr>\n",
              "      <th>44342</th>\n",
              "      <td>https://www.gleefulblogger.com/how-to-develop-...</td>\n",
              "      <td>1</td>\n",
              "      <td>1</td>\n",
              "    </tr>\n",
              "    <tr>\n",
              "      <th>44343</th>\n",
              "      <td>http://addictedtoromance.org/tag/sherring-cross/</td>\n",
              "      <td>1</td>\n",
              "      <td>1</td>\n",
              "    </tr>\n",
              "    <tr>\n",
              "      <th>44344</th>\n",
              "      <td>https://www.oyunskor.com/oyun/papa-louie</td>\n",
              "      <td>0</td>\n",
              "      <td>0</td>\n",
              "    </tr>\n",
              "    <tr>\n",
              "      <th>44345</th>\n",
              "      <td>https://www.oyunskor.com/oyun/valentines-shop</td>\n",
              "      <td>0</td>\n",
              "      <td>0</td>\n",
              "    </tr>\n",
              "    <tr>\n",
              "      <th>44346</th>\n",
              "      <td>http://addictedtoromance.org/books/archangels-...</td>\n",
              "      <td>1</td>\n",
              "      <td>1</td>\n",
              "    </tr>\n",
              "  </tbody>\n",
              "</table>\n",
              "<p>8870 rows × 3 columns</p>\n",
              "</div>"
            ],
            "text/plain": [
              "                                                   Index  Actual  Prediction\n",
              "35477     https://www.oyunskor.com/oyun/miranda-manicure       0           0\n",
              "35478  http://addictedtoromance.org/books/cupids-ench...       1           1\n",
              "35479  https://kitchentoast.com/wheatgrass-juicer-man...       1           1\n",
              "35480         https://www.oyunskor.com/oyun/bubble-witch       0           0\n",
              "35481  https://thegeekybibliophile.wordpress.com/2016...       1           1\n",
              "...                                                  ...     ...         ...\n",
              "44342  https://www.gleefulblogger.com/how-to-develop-...       1           1\n",
              "44343   http://addictedtoromance.org/tag/sherring-cross/       1           1\n",
              "44344           https://www.oyunskor.com/oyun/papa-louie       0           0\n",
              "44345      https://www.oyunskor.com/oyun/valentines-shop       0           0\n",
              "44346  http://addictedtoromance.org/books/archangels-...       1           1\n",
              "\n",
              "[8870 rows x 3 columns]"
            ]
          },
          "metadata": {
            "tags": []
          },
          "execution_count": 28
        }
      ]
    },
    {
      "cell_type": "code",
      "metadata": {
        "execution": {
          "iopub.status.busy": "2021-05-28T06:54:25.347665Z",
          "iopub.execute_input": "2021-05-28T06:54:25.34803Z",
          "iopub.status.idle": "2021-05-28T06:54:25.359811Z",
          "shell.execute_reply.started": "2021-05-28T06:54:25.347997Z",
          "shell.execute_reply": "2021-05-28T06:54:25.358627Z"
        },
        "trusted": true,
        "colab": {
          "base_uri": "https://localhost:8080/"
        },
        "id": "hs7bvhQEB7F8",
        "outputId": "e7f07f76-6438-48bd-f5c3-c4f2d385883d"
      },
      "source": [
        "def getClassAccuracies(predictionData):\n",
        "    ###\n",
        "    ### Gets accuracies of model for all unique classes\n",
        "    ### @params = {predictionaData: Preproccessed data cols = [\"Index\", \"Actual\", \"Prediction\"]}\n",
        "    ###\n",
        "    positives = predictionData[predictionData[\"Actual\"] == 1]\n",
        "    posRatio = ((positives[\"Actual\"] == positives[\"Prediction\"]).sum() / positives.shape[0]) * 100\n",
        "    negatives = predictionData[predictionData[\"Actual\"] == 0]\n",
        "    negRatio = ((negatives[\"Actual\"] == negatives[\"Prediction\"]).sum() / negatives.shape[0]) * 100\n",
        "    print(f\"Model Accuracy for predict blogs: {posRatio}\\nModel Accuracy for predict non-blogs: {negRatio}\")\n",
        "getClassAccuracies(predictionData)"
      ],
      "execution_count": 29,
      "outputs": [
        {
          "output_type": "stream",
          "text": [
            "Model Accuracy for predict blogs: 100.0\n",
            "Model Accuracy for predict non-blogs: 99.5545073375262\n"
          ],
          "name": "stdout"
        }
      ]
    },
    {
      "cell_type": "code",
      "metadata": {
        "id": "hzu672HGB7F9"
      },
      "source": [
        ""
      ],
      "execution_count": null,
      "outputs": []
    }
  ]
}