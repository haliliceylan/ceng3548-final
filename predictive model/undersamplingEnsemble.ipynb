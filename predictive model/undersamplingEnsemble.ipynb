{
  "nbformat": 4,
  "nbformat_minor": 0,
  "metadata": {
    "kernelspec": {
      "language": "python",
      "display_name": "Python 3",
      "name": "python3"
    },
    "language_info": {
      "name": "python",
      "version": "3.7.9",
      "mimetype": "text/x-python",
      "codemirror_mode": {
        "name": "ipython",
        "version": 3
      },
      "pygments_lexer": "ipython3",
      "nbconvert_exporter": "python",
      "file_extension": ".py"
    },
    "colab": {
      "name": "undersamplingEnsemble.ipynb",
      "provenance": [],
      "toc_visible": true
    }
  },
  "cells": [
    {
      "cell_type": "code",
      "metadata": {
        "_uuid": "8f2839f25d086af736a60e9eeb907d3b93b6e0e5",
        "_cell_guid": "b1076dfc-b9ad-4769-8c92-a6c4dae69d19",
        "execution": {
          "iopub.status.busy": "2021-05-28T06:52:06.718336Z",
          "iopub.execute_input": "2021-05-28T06:52:06.718652Z",
          "iopub.status.idle": "2021-05-28T06:52:08.574551Z",
          "shell.execute_reply.started": "2021-05-28T06:52:06.718625Z",
          "shell.execute_reply": "2021-05-28T06:52:08.573771Z"
        },
        "trusted": true,
        "id": "O63n0IdsJ11p"
      },
      "source": [
        "import numpy as np \n",
        "import pandas as pd \n",
        "from sklearn.metrics import classification_report, plot_roc_curve\n",
        "import xgboost as xg\n",
        "import warnings\n",
        "from sklearn.model_selection import train_test_split\n",
        "from statistics import mode\n",
        "from sklearn.metrics import plot_roc_curve, classification_report, roc_auc_score, auc, roc_curve\n",
        "import matplotlib.pyplot as plt\n",
        "\n",
        "warnings.filterwarnings(\"ignore\")"
      ],
      "execution_count": 4,
      "outputs": []
    },
    {
      "cell_type": "code",
      "metadata": {
        "execution": {
          "iopub.status.busy": "2021-05-28T06:57:27.053785Z",
          "iopub.execute_input": "2021-05-28T06:57:27.05416Z",
          "iopub.status.idle": "2021-05-28T06:57:27.817453Z",
          "shell.execute_reply.started": "2021-05-28T06:57:27.054129Z",
          "shell.execute_reply": "2021-05-28T06:57:27.816493Z"
        },
        "trusted": true,
        "id": "Y1pGIgJ3J11u"
      },
      "source": [
        "PATH = \"items.csv\"\n",
        "data = pd.read_csv(PATH)"
      ],
      "execution_count": 5,
      "outputs": []
    },
    {
      "cell_type": "markdown",
      "metadata": {
        "id": "fEPqEbdNJ11v"
      },
      "source": [
        "# Undersampling and Ensemble Model"
      ]
    },
    {
      "cell_type": "code",
      "metadata": {
        "execution": {
          "iopub.status.busy": "2021-05-28T08:15:06.367931Z",
          "iopub.execute_input": "2021-05-28T08:15:06.368528Z",
          "iopub.status.idle": "2021-05-28T08:15:06.382687Z",
          "shell.execute_reply.started": "2021-05-28T08:15:06.368485Z",
          "shell.execute_reply": "2021-05-28T08:15:06.381154Z"
        },
        "trusted": true,
        "id": "aADkwk5AJ11v"
      },
      "source": [
        "class Model:\n",
        "    def __init__(self,\n",
        "                 data):\n",
        "        self.data = data\n",
        "        self.model = xg.XGBClassifier(colsample_bytree =  0.6, \n",
        "                                      min_child_weight = 5)\n",
        "    def preprocessData(self):\n",
        "        ##\n",
        "        ## Preprocessing steps for self.data\n",
        "        ##\n",
        "        self.data = self.data[self.data[\"is_blog\"] != \"is_blog\"]\n",
        "        self.data[\"is_blog\"] = self.data[\"is_blog\"].astype(int)\n",
        "        for column in self.data.columns[1:]:\n",
        "            self.data[column] = self.data[column].astype(int)\n",
        "        self.data.drop([\"url\"], axis = 1, inplace= True)\n",
        "        \n",
        "    def sampledDatasets(self):\n",
        "        ##\n",
        "        ## Since we have more positive targets, we undersampled the data into 3 different parts\n",
        "        ##\n",
        "        negs = self.data[self.data[\"is_blog\"] == 0]\n",
        "        pos1, pos2, pos3 = self.data[self.data[\"is_blog\"] == 1][:20000], self.data[self.data[\"is_blog\"] == 1][20000:40000], self.data[self.data[\"is_blog\"] == 1][40000:]\n",
        "        underSampledData1, underSampledData2, underSampledData3 = pd.concat([pos1, negs], axis = 0), pd.concat([pos2, negs], axis = 0), pd.concat([pos3, negs], axis = 0) \n",
        "        underSampledData1, underSampledData2, underSampledData3 = underSampledData1.sample(frac=1).reset_index(drop=True), underSampledData2.sample(frac=1).reset_index(drop=True), underSampledData3.sample(frac=1).reset_index(drop=True)\n",
        "        self.underSampledDatasets = [underSampledData1, underSampledData2, underSampledData3]\n",
        "        \n",
        "    def votingClassifier(self):\n",
        "        ##\n",
        "        ## Creates a voting classifier\n",
        "        ##\n",
        "        testData = self.underSampledDatasets[0][:10000]\n",
        "        self.x_test, self.y_test = testData.drop([\"is_blog\"], axis = 1), testData[\"is_blog\"]\n",
        "        self.underSampledDatasets[0] = self.underSampledDatasets[0][10000:]\n",
        "        self.modelScores = list()\n",
        "        self.predicts = list()\n",
        "        for dataset in self.underSampledDatasets:\n",
        "            x, y = dataset.drop([\"is_blog\"], axis = 1), dataset[\"is_blog\"]\n",
        "            self.model.fit(x,y)\n",
        "            prediction = self.model.predict(self.x_test)\n",
        "            self.predicts.append(prediction)\n",
        "            self.modelScores.append(roc_auc_score(self.y_test, prediction))\n",
        "        self.predicts = self.getVotingPreds()\n",
        "    \n",
        "    def getVotingPreds(self):\n",
        "        ##\n",
        "        ## Apply voting technique to y_preds\n",
        "        ##\n",
        "        finalPredicts = list()\n",
        "        for idx in range(len(self.predicts[0])):\n",
        "            finalPredicts.append(mode([self.predicts[0][idx], self.predicts[0][idx], self.predicts[0][idx]]))\n",
        "        return finalPredicts\n",
        "    def plotRocCurveNN(self):\n",
        "    ###\n",
        "    ### Plotting roc curve for neural nets\n",
        "    ##\n",
        "      fprNN, tprNN, thNN = roc_curve(self.y_test, self.predicts)\n",
        "      aucModel = auc(fprNN, tprNN)\n",
        "      plt.figure(figsize = (10,8))\n",
        "      plt.plot(fprNN, tprNN, marker='.', label='Neural Network (auc = %0.3f)' % aucModel)\n",
        "      plt.title(\"Basic Neural Nets ROC Curve\")\n",
        "      plt.show()\n",
        "        "
      ],
      "execution_count": 16,
      "outputs": []
    },
    {
      "cell_type": "code",
      "metadata": {
        "execution": {
          "iopub.status.busy": "2021-05-28T08:15:06.501581Z",
          "iopub.execute_input": "2021-05-28T08:15:06.501913Z",
          "iopub.status.idle": "2021-05-28T08:15:20.597985Z",
          "shell.execute_reply.started": "2021-05-28T08:15:06.501876Z",
          "shell.execute_reply": "2021-05-28T08:15:20.597062Z"
        },
        "trusted": true,
        "id": "xLWQDGVRJ11w"
      },
      "source": [
        "model = Model(data)\n",
        "model.preprocessData()\n",
        "model.sampledDatasets()\n",
        "model.votingClassifier()"
      ],
      "execution_count": 17,
      "outputs": []
    },
    {
      "cell_type": "code",
      "metadata": {
        "execution": {
          "iopub.status.busy": "2021-05-28T08:15:46.503725Z",
          "iopub.execute_input": "2021-05-28T08:15:46.504081Z",
          "iopub.status.idle": "2021-05-28T08:15:46.516127Z",
          "shell.execute_reply.started": "2021-05-28T08:15:46.504051Z",
          "shell.execute_reply": "2021-05-28T08:15:46.515046Z"
        },
        "trusted": true,
        "colab": {
          "base_uri": "https://localhost:8080/"
        },
        "id": "F1Zj0IizJ11x",
        "outputId": "27ef04db-3ba3-4562-9e09-f32ddd8e79ae"
      },
      "source": [
        "print(f\"Model Scores: {model.modelScores}\")\n",
        "print(f\"Ensemble Model Score: {roc_auc_score(model.y_test, model.predicts)}\")"
      ],
      "execution_count": 26,
      "outputs": [
        {
          "output_type": "stream",
          "text": [
            "Model Scores: [0.9986502042276167, 0.9779837920314662, 0.9776714144453094]\n",
            "Ensemble Model Score: 0.9986502042276167\n"
          ],
          "name": "stdout"
        }
      ]
    },
    {
      "cell_type": "code",
      "metadata": {
        "execution": {
          "iopub.status.busy": "2021-05-28T08:17:49.338985Z",
          "iopub.execute_input": "2021-05-28T08:17:49.339309Z",
          "iopub.status.idle": "2021-05-28T08:17:49.366214Z",
          "shell.execute_reply.started": "2021-05-28T08:17:49.339279Z",
          "shell.execute_reply": "2021-05-28T08:17:49.365219Z"
        },
        "trusted": true,
        "colab": {
          "base_uri": "https://localhost:8080/"
        },
        "id": "L3pUYMJdJ11x",
        "outputId": "8c4724db-b541-4768-dd94-b2078f367c5d"
      },
      "source": [
        "print(classification_report(model.y_test, model.predicts))"
      ],
      "execution_count": 19,
      "outputs": [
        {
          "output_type": "stream",
          "text": [
            "              precision    recall  f1-score   support\n",
            "\n",
            "           0       1.00      1.00      1.00      4785\n",
            "           1       1.00      1.00      1.00      5215\n",
            "\n",
            "    accuracy                           1.00     10000\n",
            "   macro avg       1.00      1.00      1.00     10000\n",
            "weighted avg       1.00      1.00      1.00     10000\n",
            "\n"
          ],
          "name": "stdout"
        }
      ]
    },
    {
      "cell_type": "code",
      "metadata": {
        "colab": {
          "base_uri": "https://localhost:8080/",
          "height": 499
        },
        "id": "P9FxlfjJLC2j",
        "outputId": "8870e3b7-df93-4688-93b2-96fe14e5211c"
      },
      "source": [
        "model.plotRocCurveNN()"
      ],
      "execution_count": 25,
      "outputs": [
        {
          "output_type": "display_data",
          "data": {
            "image/png": "[encoded data removed]",
            "text/plain": [
              "<Figure size 720x576 with 1 Axes>"
            ]
          },
          "metadata": {
            "tags": [],
            "needs_background": "light"
          }
        }
      ]
    },
    {
      "cell_type": "code",
      "metadata": {
        "id": "TNcpXJ0xMQVh"
      },
      "source": [
        ""
      ],
      "execution_count": null,
      "outputs": []
    }
  ]
}